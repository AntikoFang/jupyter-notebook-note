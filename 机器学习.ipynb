{
 "cells": [
  {
   "cell_type": "markdown",
   "metadata": {},
   "source": [
    "Numpy \n",
    "Pandas \n",
    "Scipy \n",
    "Statsmodels\n",
    "\n",
    "# 画图\n",
    "Matplotlib :高质量的数据可视化\n",
    "Seaborn :统计类数据可视化功能库 图更好看\n",
    "Mayavi ：三维数据可视化功能库\n",
    "\n",
    "# 机器学习\n",
    "## sklearn (Scikit-learn)\n",
    "1. 分类  \n",
    "    最近邻算法\n",
    "    支持向量机\n",
    "    朴素贝叶斯\n",
    "    决策树\n",
    "    集成方法\n",
    "    神经网络\n",
    "2. 回归 \n",
    "3. 聚类 \n",
    "4. 降维 \n",
    "5. 模型选择 \n",
    "6. 数据预处理\n",
    "## Tensorflow\n",
    "## kera"
   ]
  },
  {
   "cell_type": "code",
   "execution_count": null,
   "metadata": {
    "collapsed": true
   },
   "outputs": [],
   "source": [
    "https://scikit-learn.org/stable/"
   ]
  },
  {
   "cell_type": "code",
   "execution_count": 1,
   "metadata": {
    "collapsed": true
   },
   "outputs": [],
   "source": [
    "import xgboost"
   ]
  }
 ],
 "metadata": {
  "kernelspec": {
   "display_name": "Python 3",
   "language": "python",
   "name": "python3"
  },
  "language_info": {
   "codemirror_mode": {
    "name": "ipython",
    "version": 3
   },
   "file_extension": ".py",
   "mimetype": "text/x-python",
   "name": "python",
   "nbconvert_exporter": "python",
   "pygments_lexer": "ipython3",
   "version": "3.6.3"
  }
 },
 "nbformat": 4,
 "nbformat_minor": 2
}
