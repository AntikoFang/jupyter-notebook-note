{
 "cells": [
  {
   "cell_type": "code",
   "execution_count": 1,
   "metadata": {},
   "outputs": [
    {
     "name": "stdout",
     "output_type": "stream",
     "text": [
      "[['#3.1', '重量计算'], ['#', '月球上物体的体重是在地球上是16.5%，假如你在地球上每年增长0.5KG，'], ['#', '编写程序输出未来10年你在地球和月球上的体重状况'], ['def', 'WEIGHT():'], ['WEI', '=', \"INT(INPUT('PLEASE\", 'INPUT', 'YOUR', \"WEIGHT(KG):'))\"], ['I', '=', '0'], ['for', 'I', 'in', 'RANGE', '(0,10):'], ['WEI', '+=', '0.5'], ['MOONWEI', '=', 'WEI', '*', '(1', '+', '0.165)'], ['I', '+=', '1'], ['PRINT(\"地球：{:.2F}KG\".FORMAT(WEI),\"月球：{:.2F}KG\".FORMAT(MOONWEI))'], ['WEIGHT()']]\n"
     ]
    }
   ],
   "source": [
    "# 7.1 python源文件改写。\n",
    "import keyword\n",
    "s = keyword.kwlist\n",
    "# 建立保留字列表\n",
    "file_name = r\"D:\\python_homework\\3.1test.txt\"\n",
    "f = open(file_name, \"r\")\n",
    "ls = []\n",
    "for i in f.readlines():\n",
    "    i = i.split()\n",
    "    ls.append(i)\n",
    "print(ls)\n",
    "# 建立一个以每行的所有单词为元素组成的一个列表组\n",
    "f.close()\n",
    "f = open(file_name, \"w+\")\n",
    "for i in range(len(ls)):\n",
    "    if ls[i]:\n",
    "        for j in range(len(ls[i])):\n",
    "            x = ls[i][j]\n",
    "            if x not in s:\n",
    "                x = x.upper()\n",
    "            else:\n",
    "                x = x.lower()\n",
    "            if j == len(ls[i]) - 1:  # 判定是否遍历至每行的末尾\n",
    "                f.write(x + \"\\n\")\n",
    "            else:\n",
    "                f.write(x + \" \")\n",
    "    else:\n",
    "        f.write(\" \" + \"\\n\")\n",
    "f.close()"
   ]
  },
  {
   "cell_type": "code",
   "execution_count": 2,
   "metadata": {
    "collapsed": true
   },
   "outputs": [],
   "source": [
    "# 7.2 图像文件压缩\n",
    "\n",
    "from PIL import Image\n",
    "im = Image.open(r'D:\\python_homework\\背景.jpg')\n",
    "im.thumbnail((128, 128))\n",
    "im.save(r'D:\\python_homework\\背景1.jpg', 'JPEG')"
   ]
  },
  {
   "cell_type": "code",
   "execution_count": null,
   "metadata": {
    "collapsed": true
   },
   "outputs": [],
   "source": []
  }
 ],
 "metadata": {
  "kernelspec": {
   "display_name": "Python 3",
   "language": "python",
   "name": "python3"
  },
  "language_info": {
   "codemirror_mode": {
    "name": "ipython",
    "version": 3
   },
   "file_extension": ".py",
   "mimetype": "text/x-python",
   "name": "python",
   "nbconvert_exporter": "python",
   "pygments_lexer": "ipython3",
   "version": "3.6.3"
  }
 },
 "nbformat": 4,
 "nbformat_minor": 2
}
