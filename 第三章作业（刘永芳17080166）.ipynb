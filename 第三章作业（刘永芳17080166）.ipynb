{
 "cells": [
  {
   "cell_type": "code",
   "execution_count": null,
   "metadata": {
    "collapsed": true
   },
   "outputs": [],
   "source": [
    "#3.1 重量计算\n",
    "# 月球上物体的体重是在地球上是16.5%，假如你在地球上每年增长0.5kg，\n",
    "# 编写程序输出未来10年你在地球和月球上的体重状况\n",
    "def weight():\n",
    "    wei = int(input('please input your weight(kg):'))\n",
    "    i = 0\n",
    "    for i in range (0,10):\n",
    "         wei += 0.5\n",
    "         moonwei = wei * (1 + 0.165)\n",
    "         i += 1\n",
    "         print(\"地球：{:.2f}kg\".format(wei),\"月球：{:.2f}kg\".format(moonwei))\n",
    "weight()"
   ]
  }
 ],
 "metadata": {
  "kernelspec": {
   "display_name": "Python 3",
   "language": "python",
   "name": "python3"
  },
  "language_info": {
   "codemirror_mode": {
    "name": "ipython",
    "version": 3.0
   },
   "file_extension": ".py",
   "mimetype": "text/x-python",
   "name": "python",
   "nbconvert_exporter": "python",
   "pygments_lexer": "ipython3",
   "version": "3.6.3"
  }
 },
 "nbformat": 4,
 "nbformat_minor": 0
}