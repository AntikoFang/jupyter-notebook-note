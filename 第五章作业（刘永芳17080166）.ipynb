{
 "cells": [
  {
   "cell_type": "code",
   "execution_count": 1,
   "metadata": {},
   "outputs": [
    {
     "name": "stdout",
     "output_type": "stream",
     "text": [
      "+————+————+\n",
      "|        |        |        \n",
      "|        |        |        \n",
      "+————+————+\n",
      "|        |        |        \n",
      "|        |        |        \n",
      "+————+————+\n"
     ]
    }
   ],
   "source": [
    "# 5.1 输出田字格\n",
    "def TianZiGe(size):\n",
    "    i = 0\n",
    "    x = size * 3 + 1\n",
    "    a = '+'\n",
    "    b = '—'\n",
    "    c = '|'\n",
    "    d = ' '\n",
    "    for i in range(x):\n",
    "        if i % 3 == 0:\n",
    "                print('{}{}'.format(a,b*4)*size+'{}'.format(a))\n",
    "        elif i != x:\n",
    "            print('{}{}'.format(c,d*8)*(size+1))\n",
    "        i += 1\n",
    "TianZiGe(2)"
   ]
  },
  {
   "cell_type": "code",
   "execution_count": 2,
   "metadata": {},
   "outputs": [
    {
     "name": "stdout",
     "output_type": "stream",
     "text": [
      "please input a number:23\n",
      "Ture\n"
     ]
    }
   ],
   "source": [
    "#5.2 判断奇数\n",
    "def isOdd():\n",
    "    num = int(input('please input a number:'))\n",
    "    if num % 2 != 0:\n",
    "       print('Ture')\n",
    "    else:\n",
    "        print( 'No')\n",
    "isOdd()\n"
   ]
  },
  {
   "cell_type": "code",
   "execution_count": 4,
   "metadata": {},
   "outputs": [
    {
     "name": "stdout",
     "output_type": "stream",
     "text": [
      "please input a string:12334312\n",
      "<class 'int'>\n",
      "True\n"
     ]
    }
   ],
   "source": [
    "# 5.3 判断字符串是否属于整数，浮点数或者复数\n",
    "def isNum():\n",
    "    num = eval(input(\"please input a string:\"))\n",
    "    print(type(num))\n",
    "    if num == int or float or complex:\n",
    "        print('True')\n",
    "    else:\n",
    "        print('No')\n",
    "isNum()"
   ]
  },
  {
   "cell_type": "code",
   "execution_count": 6,
   "metadata": {},
   "outputs": [
    {
     "name": "stdout",
     "output_type": "stream",
     "text": [
      "120\n",
      "120\n"
     ]
    }
   ],
   "source": [
    "#5.4 参数个数不限，返回所有参数的乘积\n",
    "def multi(*b):\n",
    "    i = 0\n",
    "    a = 1\n",
    "    n = len(b)\n",
    "    for i in range(0,n):\n",
    "        a *= b[i]\n",
    "    print(a)\n",
    "multi(1,2,3,4,5)\n"
   ]
  },
  {
   "cell_type": "code",
   "execution_count": 7,
   "metadata": {},
   "outputs": [
    {
     "name": "stdout",
     "output_type": "stream",
     "text": [
      "please input an int:34\n",
      "False\n"
     ]
    }
   ],
   "source": [
    "#5.5 实现isPrime()函数，参数为整数，要有异常值处理。如果整数是质数，返回True,否则返回False\n",
    "def isPrime():\n",
    "    k = 1\n",
    "    try:\n",
    "        num = eval(input('please input an int:'))\n",
    "        n = num // 2\n",
    "        for i in range(2,n):\n",
    "            if k:\n",
    "                if num % i == 0:\n",
    "                    print('False')\n",
    "                    k = 0\n",
    "                else:\n",
    "                    print('True')\n",
    "                    k = 0\n",
    "    except NameError:\n",
    "        print('输入错误，请输入一个整数！')\n",
    "    #except:\n",
    "        #print('其他错误')\n",
    "isPrime()\n"
   ]
  },
  {
   "cell_type": "code",
   "execution_count": 8,
   "metadata": {},
   "outputs": [
    {
     "name": "stdout",
     "output_type": "stream",
     "text": [
      "1999-03-21 20:11:30.000024\n",
      "1999-03-21\n",
      "1999-03-21 08:11PM\n",
      "1999-03-21 20:11:30 Sunday\n",
      "1999-03-21 20:11:30 March\n",
      "03/21/99 20:11:30\n",
      "1999 March 21 20:11:30\n",
      "1999 March 21 20:11:30 Sunday\n",
      "1999 March 21 20:11:30 Sun\n",
      "1999 Mar 21 Sunday\n"
     ]
    }
   ],
   "source": [
    "# 5.6\n",
    "from datetime import datetime\n",
    "birthday1 = datetime(1999,3,21,20,11,30,24)\n",
    "print(birthday1)\n",
    "birthday2 = birthday1.strftime(\"%Y-%m-%d\")\n",
    "print(birthday2)\n",
    "birthday3 = birthday1.strftime(\"%Y-%m-%d %I:%M%p\")\n",
    "print(birthday3)\n",
    "birthday4 = birthday1.strftime(\"%Y-%m-%d %H:%M:%S %A\")\n",
    "print(birthday4)\n",
    "birthday5 = birthday1.strftime(\"%Y-%m-%d %H:%M:%S %B\")\n",
    "print(birthday5)\n",
    "birthday6 = birthday1.strftime(\"%x %X\")\n",
    "print(birthday6)\n",
    "birthday7 = birthday1.strftime(\"%Y %B %d %X\")\n",
    "print(birthday7)\n",
    "birthday8 = birthday1.strftime(\"%Y %B %d %X %A\")\n",
    "print(birthday8)\n",
    "birthday9 = birthday1.strftime(\"%Y %B %d %X %a\")\n",
    "print(birthday9)\n",
    "birthday10 = birthday1.strftime(\"%Y %b %d %A\")\n",
    "print(birthday10)"
   ]
  },
  {
   "cell_type": "code",
   "execution_count": null,
   "metadata": {
    "collapsed": true
   },
   "outputs": [],
   "source": []
  }
 ],
 "metadata": {
  "kernelspec": {
   "display_name": "Python 3",
   "language": "python",
   "name": "python3"
  },
  "language_info": {
   "codemirror_mode": {
    "name": "ipython",
    "version": 3
   },
   "file_extension": ".py",
   "mimetype": "text/x-python",
   "name": "python",
   "nbconvert_exporter": "python",
   "pygments_lexer": "ipython3",
   "version": "3.6.3"
  }
 },
 "nbformat": 4,
 "nbformat_minor": 2
}
