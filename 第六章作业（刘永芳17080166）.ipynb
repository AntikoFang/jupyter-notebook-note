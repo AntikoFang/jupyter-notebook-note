{
 "cells": [
  {
   "cell_type": "code",
   "execution_count": 1,
   "metadata": {},
   "outputs": [
    {
     "name": "stdout",
     "output_type": "stream",
     "text": [
      "ACYE5154\n",
      "Udtz66Og\n",
      "41rafstA\n",
      "6DA0X46v\n",
      "bwJhP4h9\n",
      "RI1AgBb5\n",
      "AHudF88s\n",
      "TIr79i8p\n",
      "yv4TPKz4\n",
      "8Rl0t1I3\n"
     ]
    }
   ],
   "source": [
    "# 6.1随机密码生成。编写程序，从26个字母大小写和9个数字组成的列表中随机生成10个8位密码\n",
    "import random\n",
    "def code():\n",
    "    ls = ['abcdefghijklmnopqrstuvwxyz','ABCDEFGHIJKLMNOPQRSTUVWXYZ','0123456789']\n",
    "    a = []\n",
    "    for i in range(8):\n",
    "        k = random.randint(0,2)\n",
    "        k = ls[k]\n",
    "        if k.isdigit():\n",
    "            a.append(k[random.randint(0,9)])\n",
    "        else:\n",
    "           a.append(k[random.randint(0,25)])\n",
    "    c = map(str,a)\n",
    "    c = ''.join(c)\n",
    "    print(c)\n",
    "#code()\n",
    "def code2(n):\n",
    "    for i in range(n):\n",
    "        code()\n",
    "code2(10)"
   ]
  },
  {
   "cell_type": "code",
   "execution_count": 2,
   "metadata": {},
   "outputs": [
    {
     "name": "stdout",
     "output_type": "stream",
     "text": [
      "True\n",
      "False\n",
      "False\n"
     ]
    }
   ],
   "source": [
    "# 6.2 重复元素判定。\n",
    "# 编写一个函数，接受列表作为参数，如果一个元素在列表中出现了不止一次，则返回True，但不要改变原来列表的值。\n",
    "# 同时编写调用这个函数和测试结果的程序\n",
    "\n",
    "def RepJudge1(ls):\n",
    "    ls = sorted(ls)\n",
    "    l = len(ls)\n",
    "    k = 1\n",
    "    for i in range(l-1):\n",
    "        if ls[i] == ls[i+1]:\n",
    "            print('True')\n",
    "\n",
    "        else:\n",
    "            print('False')\n",
    "RepJudge1([1,2,3,1])"
   ]
  },
  {
   "cell_type": "code",
   "execution_count": 3,
   "metadata": {},
   "outputs": [
    {
     "data": {
      "text/plain": [
       "True"
      ]
     },
     "execution_count": 3,
     "metadata": {},
     "output_type": "execute_result"
    }
   ],
   "source": [
    "# 6.3 重复判定续。\n",
    "# 利用集合的无重复性改编程序练习题6.2的程序，获得一个更快更简洁的版本\n",
    "def RepJudge2(ls):\n",
    "    return len(ls) > len(list(set(ls)))\n",
    "RepJudge2([1,2,3,1])"
   ]
  },
  {
   "cell_type": "code",
   "execution_count": 4,
   "metadata": {},
   "outputs": [
    {
     "name": "stdout",
     "output_type": "stream",
     "text": [
      "f 4\n",
      "a 1\n",
      "d 1\n"
     ]
    }
   ],
   "source": [
    "# 6.4 文字字符分析。\n",
    "# 编写程序接受字符串，按字符出现频率的降序打印字母。\n",
    "# 分别尝试录入一些中英文文章片段，比较不同语言之间字符频率的差别\n",
    "\n",
    "def words(str):\n",
    "    a = {}\n",
    "    for i in range(len(str)):\n",
    "        a[str[i]] = a.get(str[i], 0) + 1\n",
    "    k = list(a.items())\n",
    "    k.sort(key=lambda x:x[1], reverse = True)\n",
    "    for i in range(len(k)):\n",
    "        word, count = k[i]\n",
    "        print(word, count)\n",
    "words('affdff')"
   ]
  },
  {
   "cell_type": "code",
   "execution_count": 5,
   "metadata": {},
   "outputs": [
    {
     "name": "stdout",
     "output_type": "stream",
     "text": [
      "人数：20\n",
      "至少两人生日相同的概率为：50.00%\n"
     ]
    }
   ],
   "source": [
    "# 6.5 生日悖论分析。生日悖论指如果一个房间里有23个人或者以上，那么至少有两个生日相同的人的概率大于50%。\n",
    "# 编写程序，输出在不同随机样本数量下，23个人中至少两个人生日相同的概率\n",
    "\n",
    "import random\n",
    "times = int(input(\"人数：\"))\n",
    "count = 0\n",
    "for i in range(times):\n",
    "    # 创建列表类型，存储23个人的生日在当年的某一天\n",
    "    list = []\n",
    "    for j in range(23):\n",
    "        list.append(random.randint(1,365))\n",
    "    # 利用集合的无重复性，转换为集合类型存储\n",
    "    items = set(list)\n",
    "    # 计算生日相同人数\n",
    "    if len(items) != len(list):\n",
    "        count += 1\n",
    "print(\"至少两人生日相同的概率为：{:.2f}%\".format(count/times*100))\n"
   ]
  },
  {
   "cell_type": "code",
   "execution_count": 11,
   "metadata": {},
   "outputs": [
    {
     "ename": "TypeError",
     "evalue": "'list' object is not callable",
     "output_type": "error",
     "traceback": [
      "\u001b[1;31m---------------------------------------------------------------------------\u001b[0m",
      "\u001b[1;31mTypeError\u001b[0m                                 Traceback (most recent call last)",
      "\u001b[1;32m<ipython-input-11-f5c995e7aa3d>\u001b[0m in \u001b[0;36m<module>\u001b[1;34m()\u001b[0m\n\u001b[0;32m     38\u001b[0m \u001b[1;32mfor\u001b[0m \u001b[0mword\u001b[0m \u001b[1;32min\u001b[0m \u001b[0mexcludes\u001b[0m\u001b[1;33m:\u001b[0m\u001b[1;33m\u001b[0m\u001b[0m\n\u001b[0;32m     39\u001b[0m     \u001b[1;32mdel\u001b[0m \u001b[0mcounts\u001b[0m\u001b[1;33m[\u001b[0m\u001b[0mword\u001b[0m\u001b[1;33m]\u001b[0m\u001b[1;33m\u001b[0m\u001b[0m\n\u001b[1;32m---> 40\u001b[1;33m \u001b[0mitems\u001b[0m \u001b[1;33m=\u001b[0m \u001b[0mlist\u001b[0m\u001b[1;33m(\u001b[0m\u001b[0mcounts\u001b[0m\u001b[1;33m.\u001b[0m\u001b[0mitems\u001b[0m\u001b[1;33m(\u001b[0m\u001b[1;33m)\u001b[0m\u001b[1;33m)\u001b[0m\u001b[1;33m\u001b[0m\u001b[0m\n\u001b[0m\u001b[0;32m     41\u001b[0m \u001b[0mitems\u001b[0m\u001b[1;33m.\u001b[0m\u001b[0msort\u001b[0m\u001b[1;33m(\u001b[0m\u001b[0mkey\u001b[0m\u001b[1;33m=\u001b[0m\u001b[1;32mlambda\u001b[0m \u001b[0mx\u001b[0m\u001b[1;33m:\u001b[0m\u001b[0mx\u001b[0m\u001b[1;33m[\u001b[0m\u001b[1;36m1\u001b[0m\u001b[1;33m]\u001b[0m\u001b[1;33m,\u001b[0m\u001b[0mreverse\u001b[0m\u001b[1;33m=\u001b[0m\u001b[1;32mTrue\u001b[0m\u001b[1;33m)\u001b[0m\u001b[1;33m\u001b[0m\u001b[0m\n\u001b[0;32m     42\u001b[0m \u001b[1;32mfor\u001b[0m \u001b[0mi\u001b[0m \u001b[1;32min\u001b[0m \u001b[0mrange\u001b[0m\u001b[1;33m(\u001b[0m\u001b[1;36m20\u001b[0m\u001b[1;33m)\u001b[0m\u001b[1;33m:\u001b[0m\u001b[1;33m\u001b[0m\u001b[0m\n",
      "\u001b[1;31mTypeError\u001b[0m: 'list' object is not callable"
     ]
    }
   ],
   "source": [
    "import jieba\n",
    "path = r'D:\\python_homework\\红楼梦.txt'\n",
    "#根据路径以utf-8的格式读取文件内容\n",
    "txt = open(path,'r',encoding = 'utf-8').read()\n",
    "words = jieba.lcut(txt)\n",
    "#通过结果分析，记录需要排除的一些不是人名的名词\n",
    "excludes = ['这会子', '怎么样', '为什么', '周瑞家','什么','一个','我们','那里',\n",
    "                '你们','如今','说道','知道','这里','起来','出来','他们','众人','一面','自己',\n",
    "               '只见','怎么','奶奶','两个','没有','不是','不知','这个','听见','这样','进来','告诉','就是','咱们','东西','回来',\n",
    "               '只是','只得','大家','丫头','这些','不敢','出去','所以','不过','的话','不好','姐姐','老爷','姑娘','过来','不能','一时','心里',\n",
    "               '今日','如此','银子','答应','几个','二人','还有','说话','这么','只管','一回','那边','这话','打发','屋里','自然','今儿','那些',\n",
    "               '听说','罢了','问道','如何','看见','妹妹','人家','不用','原来','媳妇','一声','一句','家里','外头','不得','到底','回去'\n",
    "    ,'下回分解','怡红院']\n",
    "#定义空的词典类型\n",
    "counts = {}\n",
    "for word in words:\n",
    "    if len(word) == 1:\n",
    "        continue\n",
    "    elif word == '宝钗道' or word == '宝钗':\n",
    "        rword = '薛宝钗'\n",
    "    elif word == '黛玉道' or word == '黛玉' or word == '林姑娘':\n",
    "        rword == '林黛玉'\n",
    "    elif word == '袭人道':\n",
    "        rword == '袭人'\n",
    "    elif word == '贾政道':\n",
    "        rword = '贾政'\n",
    "    elif word == '宝玉':\n",
    "        rword = '贾宝玉'\n",
    "    elif word == '凤姐':\n",
    "        rword = '凤姐儿'\n",
    "    elif word == '贾母笑':\n",
    "        rword = '贾母'\n",
    "    elif word == '湘云':\n",
    "        rword = '史湘云'\n",
    "    else:\n",
    "        rword = word\n",
    "    counts[rword] = counts.get(rword,0) + 1\n",
    "for word in excludes:\n",
    "    del counts[word]\n",
    "items = list(counts.items())\n",
    "items.sort(key=lambda x:x[1],reverse=True)\n",
    "for i in range(20):\n",
    "    word,count = items[i]\n",
    "    print('{0:<10}{1:>5}'.format(word,count))\n"
   ]
  },
  {
   "cell_type": "code",
   "execution_count": null,
   "metadata": {
    "collapsed": true
   },
   "outputs": [],
   "source": []
  }
 ],
 "metadata": {
  "kernelspec": {
   "display_name": "Python 3",
   "language": "python",
   "name": "python3"
  },
  "language_info": {
   "codemirror_mode": {
    "name": "ipython",
    "version": 3
   },
   "file_extension": ".py",
   "mimetype": "text/x-python",
   "name": "python",
   "nbconvert_exporter": "python",
   "pygments_lexer": "ipython3",
   "version": "3.6.3"
  }
 },
 "nbformat": 4,
 "nbformat_minor": 2
}
