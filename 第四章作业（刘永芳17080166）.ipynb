{
 "cells": [
  {
   "cell_type": "code",
   "execution_count": 1,
   "metadata": {},
   "outputs": [
    {
     "name": "stdout",
     "output_type": "stream",
     "text": [
      "请输入所猜数字：12\n",
      "很遗憾，太大了\n",
      "请输入所猜数字：6\n",
      "很遗憾，太大了\n",
      "请输入所猜数字：2\n",
      "很遗憾，太小了\n",
      "请输入所猜数字：4\n",
      "很遗憾，太小了\n",
      "请输入所猜数字：5\n",
      "预测5次，你猜中了！\n"
     ]
    },
    {
     "data": {
      "text/plain": [
       "5"
      ]
     },
     "execution_count": 1,
     "metadata": {},
     "output_type": "execute_result"
    }
   ],
   "source": [
    "#4.1 猜数游戏\n",
    "# 在程序预设一个0到9之间的整数，让用户通过键盘输入所猜的数，如果大于预设的数，显示“遗憾，太大了”；\n",
    "# 小预设的数，显示“遗憾，太小了”，如此循环，直至猜中该数，显示“预测n次，你猜中了！”,\n",
    "# 其中N是用户输入数字的次数\n",
    "def GuessNum():\n",
    "    k = 1\n",
    "    i = 1\n",
    "    SetNum = 5\n",
    "    while  i:\n",
    "        num = int(input('请输入所猜数字：'))\n",
    "        if num > SetNum:\n",
    "            print('很遗憾，太大了')\n",
    "        elif num < SetNum:\n",
    "            print('很遗憾，太小了')\n",
    "        else :\n",
    "            print(\"预测{0}次，你猜中了！\".format(k))\n",
    "            i = 0\n",
    "        k += 1\n",
    "    return num\n",
    "GuessNum()"
   ]
  },
  {
   "cell_type": "code",
   "execution_count": 2,
   "metadata": {},
   "outputs": [
    {
     "name": "stdout",
     "output_type": "stream",
     "text": [
      "please input a string:jdejfiorfo\n",
      "字符：10个\n",
      "数字：0个\n",
      "空格：0个\n",
      "其他：0个\n"
     ]
    }
   ],
   "source": [
    "#4.2 统计不同字符个数\n",
    "# 用户从键盘输入一行字符，编写一个程序，统计并输出其中英文字符、数字、空格和其他字符的个数\n",
    "def Count():\n",
    "    s = input('please input a string:')\n",
    "    a = b = c = d = 0\n",
    "    for i in s:\n",
    "        if 'a'<= i and i <= 'z' or 'A'<= i and i <= 'Z':\n",
    "            a += 1\n",
    "        elif '0' < i and i < '9':\n",
    "            b += 1\n",
    "        elif i == \" \":\n",
    "            c += 1\n",
    "        else:\n",
    "            d += 1\n",
    "    print(\"字符：{0}个\".format(a))\n",
    "    print(\"数字：{0}个\".format(b))\n",
    "    print(\"空格：{0}个\".format(c))\n",
    "    print(\"其他：{0}个\".format(d))\n",
    "Count()"
   ]
  },
  {
   "cell_type": "code",
   "execution_count": 4,
   "metadata": {},
   "outputs": [
    {
     "name": "stdout",
     "output_type": "stream",
     "text": [
      "请输入第一个正整数：12\n",
      "请输入第一个正整数：23\n",
      "最大公约数为1\n",
      "最小公倍数为276.0\n"
     ]
    }
   ],
   "source": [
    "#4.3  最大公约数计算\n",
    "# 接受两个整数，编写程序求出这两个整数的最大公约数和最小公倍数\n",
    "#（最大公约数用辗转相除法，最小公倍数用两数的乘积除以最大公约数\n",
    "x = eval(input(\"请输入第一个正整数：\"))\n",
    "y = eval(input(\"请输入第一个正整数：\"))\n",
    "m = max(x, y)\n",
    "n = min(x, y)\n",
    "a = x * y\n",
    "while m % n != 0:\n",
    "    m, n = n, m % n\n",
    "b = a / n  #最小公倍数 = 两数之积 除以 最大公约数\n",
    "print(\"最大公约数为{0}\".format(n))\n",
    "print(\"最小公倍数为{0}\".format(b))"
   ]
  },
  {
   "cell_type": "code",
   "execution_count": 3,
   "metadata": {},
   "outputs": [
    {
     "name": "stdout",
     "output_type": "stream",
     "text": [
      "请输入所猜数字：21\n",
      "很遗憾，太小了\n",
      "请输入所猜数字：55\n",
      "很遗憾，太小了\n",
      "请输入所猜数字：66\n",
      "很遗憾，太小了\n",
      "请输入所猜数字：88\n",
      "很遗憾，太大了\n",
      "请输入所猜数字：77\n",
      "很遗憾，太小了\n",
      "请输入所猜数字：80\n",
      "很遗憾，太小了\n",
      "请输入所猜数字：83\n",
      "很遗憾，太小了\n",
      "请输入所猜数字：85\n",
      "很遗憾，太大了\n",
      "请输入所猜数字：87\n",
      "很遗憾，太大了\n",
      "请输入所猜数字：84\n",
      "预测10次，你猜中了！\n"
     ]
    }
   ],
   "source": [
    "#4.4  猜数游戏续\n",
    "# 改编4.1，让计算机能够产生一个预设数字在0-100之间，其他游戏规则不变\n",
    "import random\n",
    "def GuessNum2():\n",
    "    k = 1\n",
    "    i = 1\n",
    "    SetNum = random.randint(0,100)\n",
    "    while  i:\n",
    "        num = int(input('请输入所猜数字：'))\n",
    "        if num > SetNum:\n",
    "            print('很遗憾，太大了')\n",
    "        elif num < SetNum:\n",
    "            print('很遗憾，太小了')\n",
    "        else :\n",
    "            print(\"预测{0}次，你猜中了！\".format(k))\n",
    "            i = 0\n",
    "        k += 1\n",
    "GuessNum2()"
   ]
  },
  {
   "cell_type": "code",
   "execution_count": 5,
   "metadata": {},
   "outputs": [
    {
     "name": "stdout",
     "output_type": "stream",
     "text": [
      "请输入所猜数字：23\n",
      "很遗憾，太小了\n",
      "请输入所猜数字：77\n",
      "很遗憾，太大了\n",
      "请输入所猜数字：54\n",
      "很遗憾，太小了\n",
      "请输入所猜数字：66\n",
      "很遗憾，太小了\n",
      "请输入所猜数字：70\n",
      "很遗憾，太小了\n",
      "请输入所猜数字：75\n",
      "很遗憾，太大了\n",
      "请输入所猜数字：73\n",
      "很遗憾，太大了\n",
      "请输入所猜数字：71\n",
      "很遗憾，太小了\n",
      "请输入所猜数字：72\n",
      "预测9次，你猜中了！\n"
     ]
    }
   ],
   "source": [
    "# 4.5 猜数游戏续\n",
    "#当用户输入的不是整数时，程序会终止执行退出。\n",
    "# 改编程序，当用户输入出错时给出“输入内容必须为整数！”的提示，并让用户重新输入\n",
    "import random\n",
    "def GuessNum3():\n",
    "    k = 1\n",
    "    i = 1\n",
    "    SetNum = random.randint(0,100)\n",
    "    while  i:\n",
    "        num = input(\"请输入所猜数字：\")\n",
    "        if num.isdigit():\n",
    "            num = int(num)\n",
    "            if num > SetNum:\n",
    "                print('很遗憾，太大了')\n",
    "            elif num < SetNum:\n",
    "                print('很遗憾，太小了')\n",
    "            else:\n",
    "                print(\"预测{0}次，你猜中了！\".format(k))\n",
    "                i = 0\n",
    "            k += 1\n",
    "        else:\n",
    "            print(\"输入内容必须为整数！\")\n",
    "GuessNum3()"
   ]
  },
  {
   "cell_type": "code",
   "execution_count": null,
   "metadata": {
    "collapsed": true
   },
   "outputs": [],
   "source": []
  }
 ],
 "metadata": {
  "kernelspec": {
   "display_name": "Python 3",
   "language": "python",
   "name": "python3"
  },
  "language_info": {
   "codemirror_mode": {
    "name": "ipython",
    "version": 3
   },
   "file_extension": ".py",
   "mimetype": "text/x-python",
   "name": "python",
   "nbconvert_exporter": "python",
   "pygments_lexer": "ipython3",
   "version": "3.6.3"
  }
 },
 "nbformat": 4,
 "nbformat_minor": 2
}
